{
 "cells": [
  {
   "cell_type": "markdown",
   "metadata": {},
   "source": [
    "This requires the IEX_TOKEN environment variable to be set to the IEX API token."
   ]
  },
  {
   "cell_type": "code",
   "execution_count": 1,
   "metadata": {},
   "outputs": [],
   "source": [
    "from iexfinance.stocks import Stock, get_historical_data\n",
    "import pandas as pd\n",
    "from datetime import datetime, timedelta\n",
    "import matplotlib.pyplot as plt\n",
    "import sys"
   ]
  },
  {
   "cell_type": "code",
   "execution_count": 2,
   "metadata": {},
   "outputs": [],
   "source": [
    "sectors_of_interest = [\"Communication Services\", \"Information Technology\", \n",
    "                       \"Consumer Staples\", \"Consumer Discretionary\", \"Financials\"]"
   ]
  },
  {
   "cell_type": "code",
   "execution_count": 3,
   "metadata": {},
   "outputs": [],
   "source": [
    "df_spx = pd.read_csv('sp500_constituents.csv',encoding = \"ISO-8859-1\",quotechar='\"')"
   ]
  },
  {
   "cell_type": "code",
   "execution_count": 4,
   "metadata": {},
   "outputs": [],
   "source": [
    "df_pricechanges = pd.DataFrame(index=df_spx[\"Symbol\"], \n",
    "                               columns=[\"Symbol\", \"Security\", \"GICS_Sector\", \"GICS_Sub_Industry\", \n",
    "                                        \"latestPrice\", \"lastweekPrice\", \"week52High\", \n",
    "                                        \"pct_change1D\", \"pct_change1W\", \"pct_changeFrom1YHigh\"])\n"
   ]
  },
  {
   "cell_type": "code",
   "execution_count": 5,
   "metadata": {},
   "outputs": [],
   "source": [
    "def retrieve_new_data():\n",
    "    lastweek_date = datetime.today() - timedelta(days=7) - timedelta(days=max(datetime.today().weekday() - 4, 0))\n",
    "    \n",
    "    print(\"Today:\",datetime.today(),\", Last week:\",lastweek_date)\n",
    "\n",
    "    for i in range(len(df_spx)):\n",
    "        print(\"Retrieving \" + df_spx[\"Symbol\"][i] + \"    \", end=\"\\r\", flush=True)\n",
    "        df_pricechanges[\"Symbol\"][i] = df_spx[\"Symbol\"][i]\n",
    "        df_pricechanges[\"Security\"][i] = df_spx[\"Security\"][i]\n",
    "        df_pricechanges[\"GICS_Sector\"][i] = df_spx[\"GICS_Sector\"][i]\n",
    "        df_pricechanges[\"GICS_Sub_Industry\"][i] = df_spx[\"GICS_Sub_Industry\"][i]\n",
    "\n",
    "        quote = Stock(df_spx[\"Symbol\"][i], output_format=\"json\").get_quote()\n",
    "        df_pricechanges[\"latestPrice\"][i] = quote[\"latestPrice\"]\n",
    "        df_pricechanges[\"week52High\"][i] = quote[\"week52High\"]\n",
    "        df_pricechanges[\"pct_change1D\"][i] = quote[\"changePercent\"]\n",
    "        if quote[\"week52High\"] != 0:\n",
    "            df_pricechanges[\"pct_changeFrom1YHigh\"][i] = (quote[\"latestPrice\"] / quote[\"week52High\"] - 1) if quote[\"week52High\"] is not None else None \n",
    "\n",
    "        historical_data = get_historical_data(df_spx[\"Symbol\"][i], start=lastweek_date.strftime(\"%Y%m%d\"), close_only=True)\n",
    "        df_pricechanges[\"lastweekPrice\"][i] = historical_data[lastweek_date.strftime(\"%Y-%m-%d\")][\"close\"] if lastweek_date.strftime(\"%Y-%m-%d\") in historical_data and historical_data[lastweek_date.strftime(\"%Y-%m-%d\")] is not None else None\n",
    "        if df_pricechanges[\"lastweekPrice\"][i] != 0:\n",
    "            df_pricechanges[\"pct_change1W\"][i] = quote[\"latestPrice\"]/ df_pricechanges[\"lastweekPrice\"][i]  - 1 if df_pricechanges[\"lastweekPrice\"][i] is not None else None"
   ]
  },
  {
   "cell_type": "code",
   "execution_count": 6,
   "metadata": {},
   "outputs": [],
   "source": [
    "def make_charts(data, value, title):\n",
    "    data_subset = data[data.GICS_Sector.isin(sectors_of_interest)]\n",
    "    if value == \"pct_changeFrom1YHigh\":\n",
    "        hlines = [-0.25,-0.4, -0.5]\n",
    "    else:\n",
    "        hlines = [-0.05,-0.1]\n",
    "    plt.figure(figsize=(20,4))\n",
    "    plt.subplot(1,2,1)\n",
    "    plt.title(title + \" drop\")\n",
    "    plt.scatter('Symbol', value, c=data.head(10).GICS_Sector.cat.codes, s=300, cmap='Set1', data=data.head(10))\n",
    "    plt.hlines(hlines, xmin=-1, xmax=10, linestyles='dotted')\n",
    "    plt.xlabel('Ticker')\n",
    "    plt.ylabel('Change in price')\n",
    "\n",
    "    plt.subplot(1,2,2)\n",
    "    plt.title(title + \" drop in tech, consumer staples, financials\")\n",
    "    plt.scatter('Symbol', value, c=data_subset.head(10).GICS_Sector.cat.codes, cmap='Set1', s=300, data=data_subset.head(10))\n",
    "    plt.hlines(hlines, xmin=-1, xmax=10, linestyles='dotted')\n",
    "    plt.xlabel('Ticker')\n",
    "    plt.ylabel('Change in price')\n",
    "    plt.show()"
   ]
  },
  {
   "cell_type": "markdown",
   "metadata": {},
   "source": [
    "Choose whether to read an existing file or run the latest data from IEX"
   ]
  },
  {
   "cell_type": "code",
   "execution_count": 7,
   "metadata": {
    "scrolled": false
   },
   "outputs": [
    {
     "name": "stdout",
     "output_type": "stream",
     "text": [
      "Today: 2020-12-05 23:34:11.074256 , Last week: 2020-11-27 23:34:11.074256\n",
      "Retrieving CTL      \r"
     ]
    },
    {
     "ename": "TypeError",
     "evalue": "unsupported operand type(s) for +: 'datetime.datetime' and 'str'",
     "output_type": "error",
     "traceback": [
      "\u001b[1;31m---------------------------------------------------------------------------\u001b[0m",
      "\u001b[1;31mTypeError\u001b[0m                                 Traceback (most recent call last)",
      "\u001b[1;32m<ipython-input-7-8222b90d0d67>\u001b[0m in \u001b[0;36m<module>\u001b[1;34m\u001b[0m\n\u001b[0;32m      3\u001b[0m     \u001b[1;32mtry\u001b[0m\u001b[1;33m:\u001b[0m\u001b[1;33m\u001b[0m\u001b[1;33m\u001b[0m\u001b[0m\n\u001b[1;32m----> 4\u001b[1;33m         \u001b[0mretrieve_new_data\u001b[0m\u001b[1;33m(\u001b[0m\u001b[1;33m)\u001b[0m\u001b[1;33m\u001b[0m\u001b[1;33m\u001b[0m\u001b[0m\n\u001b[0m\u001b[0;32m      5\u001b[0m         \u001b[0mdf_pricechanges\u001b[0m\u001b[1;33m.\u001b[0m\u001b[0mhead\u001b[0m\u001b[1;33m(\u001b[0m\u001b[1;33m)\u001b[0m\u001b[1;33m\u001b[0m\u001b[1;33m\u001b[0m\u001b[0m\n",
      "\u001b[1;32m<ipython-input-5-f05e7063398c>\u001b[0m in \u001b[0;36mretrieve_new_data\u001b[1;34m()\u001b[0m\n\u001b[0;32m     22\u001b[0m         \u001b[1;32mif\u001b[0m \u001b[0mdf_pricechanges\u001b[0m\u001b[1;33m[\u001b[0m\u001b[1;34m\"lastweekPrice\"\u001b[0m\u001b[1;33m]\u001b[0m\u001b[1;33m[\u001b[0m\u001b[0mi\u001b[0m\u001b[1;33m]\u001b[0m \u001b[1;33m!=\u001b[0m \u001b[1;36m0\u001b[0m\u001b[1;33m:\u001b[0m\u001b[1;33m\u001b[0m\u001b[1;33m\u001b[0m\u001b[0m\n\u001b[1;32m---> 23\u001b[1;33m             \u001b[0mdf_pricechanges\u001b[0m\u001b[1;33m[\u001b[0m\u001b[1;34m\"pct_change1W\"\u001b[0m\u001b[1;33m]\u001b[0m\u001b[1;33m[\u001b[0m\u001b[0mi\u001b[0m\u001b[1;33m]\u001b[0m \u001b[1;33m=\u001b[0m \u001b[0mquote\u001b[0m\u001b[1;33m[\u001b[0m\u001b[1;34m\"latestPrice\"\u001b[0m\u001b[1;33m]\u001b[0m\u001b[1;33m/\u001b[0m \u001b[0mdf_pricechanges\u001b[0m\u001b[1;33m[\u001b[0m\u001b[1;34m\"lastweekPrice\"\u001b[0m\u001b[1;33m]\u001b[0m\u001b[1;33m[\u001b[0m\u001b[0mi\u001b[0m\u001b[1;33m]\u001b[0m  \u001b[1;33m-\u001b[0m \u001b[1;36m1\u001b[0m \u001b[1;32mif\u001b[0m \u001b[0mdf_pricechanges\u001b[0m\u001b[1;33m[\u001b[0m\u001b[1;34m\"lastweekPrice\"\u001b[0m\u001b[1;33m]\u001b[0m\u001b[1;33m[\u001b[0m\u001b[0mi\u001b[0m\u001b[1;33m]\u001b[0m \u001b[1;32mis\u001b[0m \u001b[1;32mnot\u001b[0m \u001b[1;32mNone\u001b[0m \u001b[1;32melse\u001b[0m \u001b[1;34m\"None\"\u001b[0m\u001b[1;33m\u001b[0m\u001b[1;33m\u001b[0m\u001b[0m\n\u001b[0m",
      "\u001b[1;31mTypeError\u001b[0m: unsupported operand type(s) for /: 'int' and 'str'",
      "\nDuring handling of the above exception, another exception occurred:\n",
      "\u001b[1;31mTypeError\u001b[0m                                 Traceback (most recent call last)",
      "\u001b[1;32m<ipython-input-7-8222b90d0d67>\u001b[0m in \u001b[0;36m<module>\u001b[1;34m\u001b[0m\n\u001b[0;32m      9\u001b[0m     \u001b[1;32mexcept\u001b[0m\u001b[1;33m:\u001b[0m\u001b[1;33m\u001b[0m\u001b[1;33m\u001b[0m\u001b[0m\n\u001b[0;32m     10\u001b[0m         \u001b[0mf\u001b[0m \u001b[1;33m=\u001b[0m \u001b[0mopen\u001b[0m\u001b[1;33m(\u001b[0m\u001b[1;34m\"error_log.txt\"\u001b[0m\u001b[1;33m,\u001b[0m \u001b[1;34m\"a\"\u001b[0m\u001b[1;33m)\u001b[0m\u001b[1;33m\u001b[0m\u001b[1;33m\u001b[0m\u001b[0m\n\u001b[1;32m---> 11\u001b[1;33m         \u001b[0mf\u001b[0m\u001b[1;33m.\u001b[0m\u001b[0mwrite\u001b[0m\u001b[1;33m(\u001b[0m\u001b[0mdatetime\u001b[0m\u001b[1;33m.\u001b[0m\u001b[0mtoday\u001b[0m\u001b[1;33m(\u001b[0m\u001b[1;33m)\u001b[0m \u001b[1;33m+\u001b[0m \u001b[1;34m\"\\n\"\u001b[0m \u001b[1;33m+\u001b[0m \u001b[0msys\u001b[0m\u001b[1;33m.\u001b[0m\u001b[0mexc_info\u001b[0m\u001b[1;33m(\u001b[0m\u001b[1;33m)\u001b[0m\u001b[1;33m[\u001b[0m\u001b[1;36m0\u001b[0m\u001b[1;33m]\u001b[0m\u001b[1;33m)\u001b[0m\u001b[1;33m\u001b[0m\u001b[1;33m\u001b[0m\u001b[0m\n\u001b[0m\u001b[0;32m     12\u001b[0m         \u001b[0mf\u001b[0m\u001b[1;33m.\u001b[0m\u001b[0mclose\u001b[0m\u001b[1;33m(\u001b[0m\u001b[1;33m)\u001b[0m\u001b[1;33m\u001b[0m\u001b[1;33m\u001b[0m\u001b[0m\n\u001b[0;32m     13\u001b[0m         \u001b[1;32mif\u001b[0m \u001b[0mi\u001b[0m \u001b[1;33m==\u001b[0m \u001b[1;36m4\u001b[0m\u001b[1;33m:\u001b[0m\u001b[1;33m\u001b[0m\u001b[1;33m\u001b[0m\u001b[0m\n",
      "\u001b[1;31mTypeError\u001b[0m: unsupported operand type(s) for +: 'datetime.datetime' and 'str'"
     ]
    }
   ],
   "source": [
    "### Run latest data from IEX\n",
    "for i in range(5):\n",
    "    try:\n",
    "        retrieve_new_data()\n",
    "        df_pricechanges.head()\n",
    "        df_pricechanges.to_csv(\"results/pricechanges_\" + datetime.today().strftime(\"%Y-%m-%d\") + \".csv\")\n",
    "        df_pricechanges.GICS_Sector = pd.Categorical(df_pricechanges.GICS_Sector)\n",
    "        break\n",
    "    except:\n",
    "        f = open(\"error_log.txt\", \"a\")\n",
    "        f.write(datetime.today().strftime(\"%Y-%m-%d %H:%M\") + \"\\n\" + str(sys.exc_info()[0]))\n",
    "        f.close()\n",
    "        if i == 4:\n",
    "            raise"
   ]
  },
  {
   "cell_type": "markdown",
   "metadata": {},
   "source": [
    "# Largest drops in the day"
   ]
  },
  {
   "cell_type": "code",
   "execution_count": null,
   "metadata": {},
   "outputs": [],
   "source": [
    "day_drop = df_pricechanges.sort_values(by=['pct_change1D'])[[\"Symbol\", \"Security\", \"GICS_Sector\", \n",
    "                                                        \"GICS_Sub_Industry\", \"latestPrice\", \n",
    "                                                             \"pct_change1D\", \"pct_change1W\",\"pct_changeFrom1YHigh\"]]\n",
    "#day_drop[\"pct_change1W\"].fillna(value=0, inplace=True)\n",
    "\n",
    "make_charts(day_drop, \"pct_change1D\", \"Day\")\n",
    "day_drop.head(20).style.format({'latestPrice': \"{:.2f}\", 'pct_change1D': \"{:.2%}\", \n",
    "                                'pct_change1W': \"{:.2%}\", 'pct_changeFrom1YHigh': \"{:.2%}\"}, na_rep= \"N/A\")"
   ]
  },
  {
   "cell_type": "markdown",
   "metadata": {},
   "source": [
    "# Largest drops from one week"
   ]
  },
  {
   "cell_type": "code",
   "execution_count": null,
   "metadata": {
    "scrolled": true
   },
   "outputs": [],
   "source": [
    "week_drop = df_pricechanges.sort_values(by=['pct_change1W'])[[\"Symbol\", \"Security\", \"GICS_Sector\", \n",
    "                                                        \"GICS_Sub_Industry\", \"latestPrice\",\"lastweekPrice\",\n",
    "                                                              \"pct_change1W\",\"pct_changeFrom1YHigh\"]]\n",
    "make_charts(week_drop, \"pct_change1W\", \"Week\")\n",
    "week_drop.head(20).style.format({'latestPrice': \"{:.2f}\", 'lastweekPrice': \"{:.2f}\", 'pct_change1W': \"{:.2%}\", \n",
    "                                 'pct_changeFrom1YHigh': \"{:.2%}\"}, na_rep= \"N/A\")"
   ]
  },
  {
   "cell_type": "markdown",
   "metadata": {},
   "source": [
    "# Largest drops from one-year high"
   ]
  },
  {
   "cell_type": "code",
   "execution_count": null,
   "metadata": {
    "scrolled": true
   },
   "outputs": [],
   "source": [
    "yearhigh_drop = df_pricechanges.sort_values(by=['pct_changeFrom1YHigh'])[[\"Symbol\", \"Security\", \"GICS_Sector\", \n",
    "                                            \"GICS_Sub_Industry\", \"latestPrice\", \"week52High\",\"pct_changeFrom1YHigh\"]]\n",
    "make_charts(yearhigh_drop, \"pct_changeFrom1YHigh\", \"1-Yr High\")\n",
    "yearhigh_drop.head(40).style.format({'latestPrice': \"{:.2f}\", 'week52High': \"{:.2f}\", \n",
    "                                     'pct_changeFrom1YHigh': \"{:.2%}\"}, na_rep= \"N/A\")"
   ]
  },
  {
   "cell_type": "markdown",
   "metadata": {},
   "source": [
    "### Code for sending the results"
   ]
  },
  {
   "cell_type": "code",
   "execution_count": null,
   "metadata": {},
   "outputs": [],
   "source": [
    "def format_sectors(data):\n",
    "    name_bold = \"font-weight: bold\" if data[\"GICS_Sector\"] in sectors_of_interest else \"font-weight: normal\"\n",
    "    cols = [\"\" if index != \"Security\" else name_bold for index, value in data.items()]\n",
    "    return cols\n",
    "\n",
    "def format_pricedrops(data, pricedropfield, thresholds, colors):\n",
    "    background_color = \"none\"\n",
    "    for i, threshold in enumerate(thresholds):\n",
    "        if data[pricedropfield] < threshold:\n",
    "            background_color = colors[i]\n",
    "    background_color = \"background-color: \" + background_color\n",
    "    cols = [\"\" if index != \"Security\" else background_color for index, value in data.items()]\n",
    "    return cols\n",
    "    \n",
    "def getDataForEmail():\n",
    "    day_drop_styled = day_drop[day_drop[\"GICS_Sector\"]!= \"Energy\"][day_drop[\"pct_change1D\"] < -0.05]\n",
    "    if (len(day_drop_styled.index) < 5):\n",
    "        day_drop_styled = day_drop[day_drop[\"GICS_Sector\"]!= \"Energy\"].head(5)\n",
    "    day_drop_styled = day_drop_styled.style.format({'latestPrice': \"{:.2f}\", 'pct_change1D': \"{:.2%}\",\n",
    "                                                    'pct_change1W': \"{:.2%}\", 'pct_changeFrom1YHigh': \"{:.2%}\"}, na_rep= \"N/A\") \\\n",
    "        .apply(format_sectors, axis=1) \\\n",
    "        .apply(format_pricedrops, pricedropfield=\"pct_change1D\", \n",
    "               thresholds=[-0.05, -0.1], colors=[\"lightsteelblue\", \"steelblue\"], axis=1) \\\n",
    "        .hide_columns(['Symbol', 'GICS_Sector'])\n",
    "    \n",
    "    week_drop_styled = week_drop[week_drop[\"GICS_Sector\"]!= \"Energy\"][week_drop[\"pct_change1W\"] < -0.05]\n",
    "    if (len(week_drop_styled.index) < 5):\n",
    "        week_drop_styled = week_drop[week_drop[\"GICS_Sector\"]!= \"Energy\"].head(5)\n",
    "    week_drop_styled = week_drop_styled.style.format({'latestPrice': \"{:.2f}\", 'lastweekPrice': \"{:.2f}\", \n",
    "                                                      'pct_change1W': \"{:.2%}\", 'pct_changeFrom1YHigh': \"{:.2%}\"}, na_rep= \"N/A\") \\\n",
    "        .apply(format_sectors, axis=1) \\\n",
    "        .apply(format_pricedrops, pricedropfield=\"pct_change1W\", \n",
    "               thresholds=[-0.05, -0.1], colors=[\"lightsteelblue\", \"steelblue\"], axis=1) \\\n",
    "        .hide_columns(['Symbol', 'GICS_Sector'])\n",
    "    \n",
    "    yearhigh_drop_styled = yearhigh_drop[yearhigh_drop[\"GICS_Sector\"]!= \"Energy\"][yearhigh_drop[\"pct_changeFrom1YHigh\"] < -0.25]\n",
    "    if (len(yearhigh_drop_styled.index) < 5):\n",
    "        yearhigh_drop_styled = yearhigh_drop[yearhigh_drop[\"GICS_Sector\"]!= \"Energy\"].head(5)\n",
    "    yearhigh_drop_styled = yearhigh_drop_styled.style.format({'latestPrice': \"{:.2f}\", 'week52High': \"{:.2f}\", \n",
    "                                                              'pct_changeFrom1YHigh': \"{:.2%}\"}, na_rep= \"N/A\") \\\n",
    "        .apply(format_pricedrops, pricedropfield=\"pct_changeFrom1YHigh\", \n",
    "               thresholds=[-0.25, -0.4], colors=[\"lightsteelblue\", \"steelblue\"], axis=1) \\\n",
    "        .apply(format_sectors, axis=1) \\\n",
    "        .hide_columns(['Symbol', 'GICS_Sector'])\n",
    "    \n",
    "    return day_drop_styled.render(), week_drop_styled.render(), yearhigh_drop_styled.render()"
   ]
  },
  {
   "cell_type": "code",
   "execution_count": null,
   "metadata": {},
   "outputs": [],
   "source": [
    "sendEmail = \"n\"\n",
    "if len(sys.argv) == 1 or \"ipykernel_launcher\" in sys.argv[0]:\n",
    "    sendEmail =  input(\"Send email? (y/n)\")\n",
    "\n",
    "if (len(sys.argv) > 1 and not \"ipykernel_launcher\" in sys.argv[0]) or sendEmail == \"y\":\n",
    "    ### CONFIG\n",
    "    import config\n",
    "    \n",
    "    ### DATA\n",
    "    dayDrops, weekDrops, YearHighDrops = getDataForEmail()\n",
    "    \n",
    "    ### EMAIL\n",
    "    import smtplib, ssl\n",
    "    from email.mime.text import MIMEText\n",
    "    from email.mime.multipart import MIMEMultipart\n",
    "\n",
    "    message = MIMEMultipart(\"alternative\")\n",
    "    message[\"Subject\"] = \"Price Drop Stock Report - \" + datetime.today().strftime(\"%m/%d/%Y\") \n",
    "    message[\"From\"] = config.email[\"senderEmail\"]\n",
    "    message[\"To\"] = ';'.join(config.email[\"receiverEmails\"])\n",
    "\n",
    "    # Create the plain-text and HTML version of your message\n",
    "    text = \"\"\"\\\n",
    "    Hello,\n",
    "    Here are today's stocks with the largest 1 day, 1 week and 1 year price drops:\n",
    "    \"\"\"\n",
    "    html = \"\"\"\\\n",
    "    <html>\n",
    "      <body>\n",
    "        <p>Hello,<br>\n",
    "           Here are today's stocks with the largest 1 day, 1 week and 1 year price drops:<br>\n",
    "        </p>\n",
    "        \"\"\" \\\n",
    "        + \"<div><h4>Price drops for the day</h4>\" + dayDrops + \"</div>\" \\\n",
    "        + \"<div><h4>Price drops over 7 days</h4>\" + weekDrops + \"</div>\" \\\n",
    "        + \"<div><h4>Price drops from year high</h4>\" + YearHighDrops + \"</div>\" \\\n",
    "    \"\"\"\\\n",
    "      </body>\n",
    "    </html>\n",
    "    \"\"\"\n",
    "\n",
    "    # Turn these into plain/html MIMEText objects\n",
    "    part1 = MIMEText(text, \"plain\")\n",
    "    part2 = MIMEText(html, \"html\")\n",
    "\n",
    "    # Add HTML/plain-text parts to MIMEMultipart message\n",
    "    # The email client will try to render the last part first\n",
    "    message.attach(part1)\n",
    "    message.attach(part2)\n",
    "\n",
    "    # Create secure connection with server and send email\n",
    "    context = ssl.create_default_context()\n",
    "    with smtplib.SMTP_SSL(\"smtp.gmail.com\", 465, context=context) as server:\n",
    "        for receiver in config.email[\"receiverEmails\"]:\n",
    "            server.login(config.email[\"senderEmail\"], config.email[\"senderPassword\"])\n",
    "            server.sendmail(\n",
    "                config.email[\"senderEmail\"], receiver, message.as_string()\n",
    "            )"
   ]
  }
 ],
 "metadata": {
  "kernelspec": {
   "display_name": "Python 3",
   "language": "python",
   "name": "python3"
  },
  "language_info": {
   "codemirror_mode": {
    "name": "ipython",
    "version": 3
   },
   "file_extension": ".py",
   "mimetype": "text/x-python",
   "name": "python",
   "nbconvert_exporter": "python",
   "pygments_lexer": "ipython3",
   "version": "3.8.1"
  }
 },
 "nbformat": 4,
 "nbformat_minor": 2
}
